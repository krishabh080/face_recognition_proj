{
 "cells": [
  {
   "cell_type": "code",
   "execution_count": null,
   "id": "dd70a766",
   "metadata": {},
   "outputs": [],
   "source": [
    "# importing the cv2 library\n",
    "import cv2\n",
    "\n",
    "# loading the Haar Cascade algorithm file into alg variable\n",
    "alg = \"haarcascade_frontalface_default.xml\"\n",
    "\n",
    "# passing the algorithm to OpenCV\n",
    "haar_cascade = cv2.CascadeClassifier(alg)\n",
    "\n",
    "# loading the image path into file_name variable\n",
    "file_name = '<INSERT YOUR IMAGE NAME HERE> for eg-> X1.jpg'\n",
    "\n",
    "# reading the image\n",
    "img = cv2.imread(file_name, 0)\n",
    "\n",
    "# creating a black and white version of the image\n",
    "gray_img = cv2.cvtColor(img, cv2.COLOR_RGB2BGR)\n",
    "\n",
    "# detecting the faces\n",
    "faces = haar_cascade.detectMultiScale(gray_img, scaleFactor=1.05, minNeighbors=2, minSize=(100, 100))\n",
    "\n",
    "# for each face detected\n",
    "for x, y, w, h in faces:\n",
    "    # crop the image to select only the face\n",
    "    cropped_image = img[y : y + h, x : x + w]\n",
    "\n",
    "    # loading the target image path into target_file_name variable\n",
    "    target_file_name = '<INSERT YOUR OUTPUT FACE IMAGE NAME HERE> for eg-> X2.jpg'\n",
    "    cv2.imwrite(target_file_name, cropped_image)\n"
   ]
  },
  {
   "cell_type": "code",
   "execution_count": null,
   "id": "6db3b1c6",
   "metadata": {},
   "outputs": [],
   "source": [
    "# importing the required libraries\n",
    "import numpy as np\n",
    "from imgbeddings import imgbeddings\n",
    "from PIL import Image\n",
    "\n",
    "# loading the face image path into file_name variable\n",
    "file_name = '<INSERT YOUR FACE FILE NAME> (X2.jpg)'\n",
    "\n",
    "# opening the image\n",
    "img = Image.open(file_name)\n",
    "\n",
    "# loading the `imgbeddings`\n",
    "ibed = imgbeddings()\n",
    "\n",
    "# calculating the embeddings\n",
    "embedding = ibed.to_embeddings(img)[0]\n"
   ]
  },
  {
   "cell_type": "code",
   "execution_count": null,
   "id": "860a4590",
   "metadata": {},
   "outputs": [],
   "source": [
    "!psql <SERVICE_URI>\n",
    "!CREATE EXTENSION vector;\n",
    "!CREATE TABLE pictures (picture text PRIMARY KEY, embedding vector(768));\n"
   ]
  },
  {
   "cell_type": "code",
   "execution_count": null,
   "id": "fad55f4e",
   "metadata": {},
   "outputs": [],
   "source": [
    "# importing the required libraries\n",
    "import psycopg2\n",
    "\n",
    "# Connect to the PostgreSQL database\n",
    "conn = psycopg2.connect('<SERVICE_URI>')\n",
    "cur = conn.cursor()\n",
    "cur.execute('INSERT INTO pictures values (%s,%s)', (file_name, embedding.tolist()))\n",
    "conn.commit()\n",
    "conn.close()\n"
   ]
  },
  {
   "cell_type": "code",
   "execution_count": null,
   "id": "2785b53f",
   "metadata": {},
   "outputs": [],
   "source": [
    "# loading the image path into file_name variable\n",
    "file_name = '<INSERT THE FILE NAME FOR WHICH YOU WANT TO CHECK THE SIMILARITY>'\n",
    "\n",
    "# reading the image\n",
    "img = cv2.imread(file_name, 0)\n",
    "\n",
    "# creating a black and white version of the image\n",
    "gray_img = cv2.cvtColor(img, cv2.COLOR_RGB2BGR)\n",
    "\n",
    "# detecting the faces\n",
    "faces = haar_cascade.detectMultiScale(gray_img, scaleFactor=1.05, minNeighbors=2, minSize=(100, 100))\n",
    "# for each face detected in the image\n",
    "for x, y, w, h in faces:\n",
    "    # crop the image to select only the face\n",
    "    cropped_image = img[y : y + h, x : x + w]\n",
    "\n",
    "    # Convert the NumPy array to a PIL image\n",
    "    pil_image = Image.fromarray(cropped_image)\n",
    "\n",
    "    ibed = imgbeddings()\n",
    "\n",
    "    # calculating the embeddings\n",
    "    slack_img_embedding = ibed.to_embeddings(pil_image)[0]\n"
   ]
  },
  {
   "cell_type": "code",
   "execution_count": null,
   "id": "48c5e59b",
   "metadata": {},
   "outputs": [],
   "source": [
    "conn = psycopg2.connect()\n",
    "cur = conn.cursor()\n",
    "string_rep = \"[\" + \",\".join(str(x) for x in slack_img_embedding.tolist()) + \"]\"\n",
    "cur.execute(\"SELECT picture FROM pictures ORDER BY embedding <-> %s LIMIT 5;\", (string_rep,))\n",
    "rows = cur.fetchall()\n",
    "for row in rows:\n",
    "    print(row)\n"
   ]
  }
 ],
 "metadata": {
  "kernelspec": {
   "display_name": "Python 3 (ipykernel)",
   "language": "python",
   "name": "python3"
  },
  "language_info": {
   "codemirror_mode": {
    "name": "ipython",
    "version": 3
   },
   "file_extension": ".py",
   "mimetype": "text/x-python",
   "name": "python",
   "nbconvert_exporter": "python",
   "pygments_lexer": "ipython3",
   "version": "3.10.9"
  }
 },
 "nbformat": 4,
 "nbformat_minor": 5
}
