{
 "cells": [
  {
   "cell_type": "code",
   "execution_count": 44,
   "id": "57999615",
   "metadata": {},
   "outputs": [],
   "source": [
    "import cv2"
   ]
  },
  {
   "cell_type": "code",
   "execution_count": 45,
   "id": "0689de4b",
   "metadata": {},
   "outputs": [],
   "source": [
    "alg=\"haarcascade_frontalface_default.xml\""
   ]
  },
  {
   "cell_type": "code",
   "execution_count": 46,
   "id": "6229a295",
   "metadata": {},
   "outputs": [],
   "source": [
    "haar_cascade = cv2.CascadeClassifier(alg)"
   ]
  },
  {
   "cell_type": "code",
   "execution_count": 47,
   "id": "ecceedf3",
   "metadata": {},
   "outputs": [],
   "source": [
    "file_name = '<INSERT YOUR IMAGE NAME HERE> for eg-> X1.jpg'
   ]
  },
  {
   "cell_type": "code",
   "execution_count": 48,
   "id": "593c5e4e",
   "metadata": {},
   "outputs": [],
   "source": [
    "img = cv2.imread(file_name, 0)"
   ]
  },
  {
   "cell_type": "code",
   "execution_count": 49,
   "id": "212c4360",
   "metadata": {},
   "outputs": [],
   "source": [
    "gray_img = cv2.cvtColor(img, cv2.COLOR_RGB2BGR)"
   ]
  },
  {
   "cell_type": "code",
   "execution_count": 52,
   "id": "9898d016",
   "metadata": {},
   "outputs": [],
   "source": [
    "faces = haar_cascade.detectMultiScale(gray_img, scaleFactor=1.05, minSize=(100, 100))\n",
    "# for each face detected\n",
    "for x, y, w, h in faces:\n",
    "    # crop the image to select only the face\n",
    "    cropped_image = img[y : y + h, x : x + w]\n",
    "    # loading the target image path into target_file_name variable\n",
    "    target_file_name = '<INSERT YOUR OUTPUT FACE IMAGE NAME HERE> for eg-> X2.jpg'\n",
    "    cv2.imwrite(\n",
    "        target_file_name,\n",
    "        cropped_image,\n",
    "    )"
   ]
  },
  {
   "cell_type": "code",
   "execution_count": null,
   "id": "22667f9d",
   "metadata": {},
   "outputs": [],
   "source": []
  }
 ],
 "metadata": {
  "kernelspec": {
   "display_name": "Python 3 (ipykernel)",
   "language": "python",
   "name": "python3"
  },
  "language_info": {
   "codemirror_mode": {
    "name": "ipython",
    "version": 3
   },
   "file_extension": ".py",
   "mimetype": "text/x-python",
   "name": "python",
   "nbconvert_exporter": "python",
   "pygments_lexer": "ipython3",
   "version": "3.10.9"
  }
 },
 "nbformat": 4,
 "nbformat_minor": 5
}
